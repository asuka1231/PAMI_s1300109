{
  "nbformat": 4,
  "nbformat_minor": 0,
  "metadata": {
    "colab": {
      "provenance": []
    },
    "kernelspec": {
      "name": "python3",
      "display_name": "Python 3"
    },
    "language_info": {
      "name": "python"
    }
  },
  "cells": [
    {
      "cell_type": "markdown",
      "source": [
        "## Exercise 13: Mining Frequent Patterns from Air Pollution Data"
      ],
      "metadata": {
        "id": "7VoZFTzNqiOR"
      }
    },
    {
      "cell_type": "markdown",
      "source": [
        "## s1300109 ISHIWATA Hiromu"
      ],
      "metadata": {
        "id": "iBRI3sSCqoIB"
      }
    },
    {
      "cell_type": "markdown",
      "source": [
        "## 1. Write a Python program in the notebook that"
      ],
      "metadata": {
        "id": "JnUsDNftqtwi"
      }
    },
    {
      "cell_type": "markdown",
      "source": [
        "## a) reads the CSV file created in Exercise 9 as a data frame"
      ],
      "metadata": {
        "id": "mIWnxufIq00M"
      }
    },
    {
      "cell_type": "code",
      "source": [
        "import pandas as pd\n",
        "dataset = pd.read_csv('pm25.csv', index_col=0)"
      ],
      "metadata": {
        "id": "uLX_TwlLS5sV"
      },
      "execution_count": null,
      "outputs": []
    },
    {
      "cell_type": "markdown",
      "source": [
        "## b) Data preprocessing:"
      ],
      "metadata": {
        "id": "5vJMqeOfqeQS"
      }
    },
    {
      "cell_type": "markdown",
      "source": [
        "## i) Replace the NaN values ​​to zero"
      ],
      "metadata": {
        "id": "tTyT9274q-yQ"
      }
    },
    {
      "cell_type": "code",
      "source": [
        "dataset = dataset.fillna(0)"
      ],
      "metadata": {
        "id": "BfkZF8ATrMu4"
      },
      "execution_count": null,
      "outputs": []
    },
    {
      "cell_type": "markdown",
      "source": [
        "## ii) Replace the values ​​greater than or equal to 100 to zero"
      ],
      "metadata": {
        "id": "4qa9AZEZrQ1C"
      }
    },
    {
      "cell_type": "code",
      "source": [
        "dataset.where(dataset >= 100, 0, inplace=True)"
      ],
      "metadata": {
        "id": "HsOq4sd2rb_3"
      },
      "execution_count": null,
      "outputs": []
    },
    {
      "cell_type": "markdown",
      "source": [
        "## iii) Remove the \"timestamp\" column"
      ],
      "metadata": {
        "id": "zZSyRZiirg-U"
      }
    },
    {
      "cell_type": "code",
      "source": [
        "dataset.drop('TimeStamp', inplace=True, axis=1)"
      ],
      "metadata": {
        "id": "Uz9MEAGCTAOH"
      },
      "execution_count": null,
      "outputs": []
    },
    {
      "cell_type": "markdown",
      "source": [
        "## iv) Install PAMI repository: pip install -U PAMI"
      ],
      "metadata": {
        "id": "SsrRlTDrrqBQ"
      }
    },
    {
      "cell_type": "code",
      "source": [
        "!pip install -U pami"
      ],
      "metadata": {
        "colab": {
          "base_uri": "https://localhost:8080/"
        },
        "id": "8MP27OVTTQJ1",
        "outputId": "20457d0f-e2da-48b4-d932-4972e4a923a8"
      },
      "execution_count": null,
      "outputs": [
        {
          "output_type": "stream",
          "name": "stdout",
          "text": [
            "Requirement already satisfied: pami in /usr/local/lib/python3.10/dist-packages (2024.7.2)\n",
            "Requirement already satisfied: psutil in /usr/local/lib/python3.10/dist-packages (from pami) (5.9.5)\n",
            "Requirement already satisfied: pandas in /usr/local/lib/python3.10/dist-packages (from pami) (2.0.3)\n",
            "Requirement already satisfied: plotly in /usr/local/lib/python3.10/dist-packages (from pami) (5.15.0)\n",
            "Requirement already satisfied: matplotlib in /usr/local/lib/python3.10/dist-packages (from pami) (3.7.1)\n",
            "Requirement already satisfied: resource in /usr/local/lib/python3.10/dist-packages (from pami) (0.2.1)\n",
            "Requirement already satisfied: validators in /usr/local/lib/python3.10/dist-packages (from pami) (0.33.0)\n",
            "Requirement already satisfied: urllib3 in /usr/local/lib/python3.10/dist-packages (from pami) (2.0.7)\n",
            "Requirement already satisfied: Pillow in /usr/local/lib/python3.10/dist-packages (from pami) (9.4.0)\n",
            "Requirement already satisfied: numpy in /usr/local/lib/python3.10/dist-packages (from pami) (1.25.2)\n",
            "Requirement already satisfied: sphinx in /usr/local/lib/python3.10/dist-packages (from pami) (5.0.2)\n",
            "Requirement already satisfied: sphinx-rtd-theme in /usr/local/lib/python3.10/dist-packages (from pami) (2.0.0)\n",
            "Requirement already satisfied: discord.py in /usr/local/lib/python3.10/dist-packages (from pami) (2.4.0)\n",
            "Requirement already satisfied: networkx in /usr/local/lib/python3.10/dist-packages (from pami) (3.3)\n",
            "Requirement already satisfied: deprecated in /usr/local/lib/python3.10/dist-packages (from pami) (1.2.14)\n",
            "Requirement already satisfied: wrapt<2,>=1.10 in /usr/local/lib/python3.10/dist-packages (from deprecated->pami) (1.14.1)\n",
            "Requirement already satisfied: aiohttp<4,>=3.7.4 in /usr/local/lib/python3.10/dist-packages (from discord.py->pami) (3.9.5)\n",
            "Requirement already satisfied: contourpy>=1.0.1 in /usr/local/lib/python3.10/dist-packages (from matplotlib->pami) (1.2.1)\n",
            "Requirement already satisfied: cycler>=0.10 in /usr/local/lib/python3.10/dist-packages (from matplotlib->pami) (0.12.1)\n",
            "Requirement already satisfied: fonttools>=4.22.0 in /usr/local/lib/python3.10/dist-packages (from matplotlib->pami) (4.53.1)\n",
            "Requirement already satisfied: kiwisolver>=1.0.1 in /usr/local/lib/python3.10/dist-packages (from matplotlib->pami) (1.4.5)\n",
            "Requirement already satisfied: packaging>=20.0 in /usr/local/lib/python3.10/dist-packages (from matplotlib->pami) (24.1)\n",
            "Requirement already satisfied: pyparsing>=2.3.1 in /usr/local/lib/python3.10/dist-packages (from matplotlib->pami) (3.1.2)\n",
            "Requirement already satisfied: python-dateutil>=2.7 in /usr/local/lib/python3.10/dist-packages (from matplotlib->pami) (2.8.2)\n",
            "Requirement already satisfied: pytz>=2020.1 in /usr/local/lib/python3.10/dist-packages (from pandas->pami) (2024.1)\n",
            "Requirement already satisfied: tzdata>=2022.1 in /usr/local/lib/python3.10/dist-packages (from pandas->pami) (2024.1)\n",
            "Requirement already satisfied: tenacity>=6.2.0 in /usr/local/lib/python3.10/dist-packages (from plotly->pami) (8.5.0)\n",
            "Requirement already satisfied: JsonForm>=0.0.2 in /usr/local/lib/python3.10/dist-packages (from resource->pami) (0.0.2)\n",
            "Requirement already satisfied: JsonSir>=0.0.2 in /usr/local/lib/python3.10/dist-packages (from resource->pami) (0.0.2)\n",
            "Requirement already satisfied: python-easyconfig>=0.1.0 in /usr/local/lib/python3.10/dist-packages (from resource->pami) (0.1.7)\n",
            "Requirement already satisfied: sphinxcontrib-applehelp in /usr/local/lib/python3.10/dist-packages (from sphinx->pami) (1.0.8)\n",
            "Requirement already satisfied: sphinxcontrib-devhelp in /usr/local/lib/python3.10/dist-packages (from sphinx->pami) (1.0.6)\n",
            "Requirement already satisfied: sphinxcontrib-jsmath in /usr/local/lib/python3.10/dist-packages (from sphinx->pami) (1.0.1)\n",
            "Requirement already satisfied: sphinxcontrib-htmlhelp>=2.0.0 in /usr/local/lib/python3.10/dist-packages (from sphinx->pami) (2.0.6)\n",
            "Requirement already satisfied: sphinxcontrib-serializinghtml>=1.1.5 in /usr/local/lib/python3.10/dist-packages (from sphinx->pami) (1.1.10)\n",
            "Requirement already satisfied: sphinxcontrib-qthelp in /usr/local/lib/python3.10/dist-packages (from sphinx->pami) (1.0.8)\n",
            "Requirement already satisfied: Jinja2>=2.3 in /usr/local/lib/python3.10/dist-packages (from sphinx->pami) (3.1.4)\n",
            "Requirement already satisfied: Pygments>=2.0 in /usr/local/lib/python3.10/dist-packages (from sphinx->pami) (2.16.1)\n",
            "Requirement already satisfied: docutils<0.19,>=0.14 in /usr/local/lib/python3.10/dist-packages (from sphinx->pami) (0.18.1)\n",
            "Requirement already satisfied: snowballstemmer>=1.1 in /usr/local/lib/python3.10/dist-packages (from sphinx->pami) (2.2.0)\n",
            "Requirement already satisfied: babel>=1.3 in /usr/local/lib/python3.10/dist-packages (from sphinx->pami) (2.15.0)\n",
            "Requirement already satisfied: alabaster<0.8,>=0.7 in /usr/local/lib/python3.10/dist-packages (from sphinx->pami) (0.7.16)\n",
            "Requirement already satisfied: imagesize in /usr/local/lib/python3.10/dist-packages (from sphinx->pami) (1.4.1)\n",
            "Requirement already satisfied: requests>=2.5.0 in /usr/local/lib/python3.10/dist-packages (from sphinx->pami) (2.31.0)\n",
            "Requirement already satisfied: sphinxcontrib-jquery<5,>=4 in /usr/local/lib/python3.10/dist-packages (from sphinx-rtd-theme->pami) (4.1)\n",
            "Requirement already satisfied: aiosignal>=1.1.2 in /usr/local/lib/python3.10/dist-packages (from aiohttp<4,>=3.7.4->discord.py->pami) (1.3.1)\n",
            "Requirement already satisfied: attrs>=17.3.0 in /usr/local/lib/python3.10/dist-packages (from aiohttp<4,>=3.7.4->discord.py->pami) (23.2.0)\n",
            "Requirement already satisfied: frozenlist>=1.1.1 in /usr/local/lib/python3.10/dist-packages (from aiohttp<4,>=3.7.4->discord.py->pami) (1.4.1)\n",
            "Requirement already satisfied: multidict<7.0,>=4.5 in /usr/local/lib/python3.10/dist-packages (from aiohttp<4,>=3.7.4->discord.py->pami) (6.0.5)\n",
            "Requirement already satisfied: yarl<2.0,>=1.0 in /usr/local/lib/python3.10/dist-packages (from aiohttp<4,>=3.7.4->discord.py->pami) (1.9.4)\n",
            "Requirement already satisfied: async-timeout<5.0,>=4.0 in /usr/local/lib/python3.10/dist-packages (from aiohttp<4,>=3.7.4->discord.py->pami) (4.0.3)\n",
            "Requirement already satisfied: MarkupSafe>=2.0 in /usr/local/lib/python3.10/dist-packages (from Jinja2>=2.3->sphinx->pami) (2.1.5)\n",
            "Requirement already satisfied: jsonschema in /usr/local/lib/python3.10/dist-packages (from JsonForm>=0.0.2->resource->pami) (4.23.0)\n",
            "Requirement already satisfied: six>=1.5 in /usr/local/lib/python3.10/dist-packages (from python-dateutil>=2.7->matplotlib->pami) (1.16.0)\n",
            "Requirement already satisfied: PyYAML in /usr/local/lib/python3.10/dist-packages (from python-easyconfig>=0.1.0->resource->pami) (6.0.1)\n",
            "Requirement already satisfied: charset-normalizer<4,>=2 in /usr/local/lib/python3.10/dist-packages (from requests>=2.5.0->sphinx->pami) (3.3.2)\n",
            "Requirement already satisfied: idna<4,>=2.5 in /usr/local/lib/python3.10/dist-packages (from requests>=2.5.0->sphinx->pami) (3.7)\n",
            "Requirement already satisfied: certifi>=2017.4.17 in /usr/local/lib/python3.10/dist-packages (from requests>=2.5.0->sphinx->pami) (2024.7.4)\n",
            "Requirement already satisfied: jsonschema-specifications>=2023.03.6 in /usr/local/lib/python3.10/dist-packages (from jsonschema->JsonForm>=0.0.2->resource->pami) (2023.12.1)\n",
            "Requirement already satisfied: referencing>=0.28.4 in /usr/local/lib/python3.10/dist-packages (from jsonschema->JsonForm>=0.0.2->resource->pami) (0.35.1)\n",
            "Requirement already satisfied: rpds-py>=0.7.1 in /usr/local/lib/python3.10/dist-packages (from jsonschema->JsonForm>=0.0.2->resource->pami) (0.19.0)\n"
          ]
        }
      ]
    },
    {
      "cell_type": "markdown",
      "source": [
        "## v) Implement the code \"Dense data frame to transactional database\" by setting >= condition and threshold value= 15 and vi) Save the file as PM24HeavyPollutionRecordingSensors.csv"
      ],
      "metadata": {
        "id": "xvsm-zMPrvNI"
      }
    },
    {
      "cell_type": "code",
      "source": [
        "from PAMI.extras.DF2DB import DenseFormatDF as db\n",
        "\n",
        "obj = db.DenseFormatDF(dataset)\n",
        "obj.convert2TransactionalDatabase('PM25HeavyPollutionRecordingSensors.csv', '>=', 15)"
      ],
      "metadata": {
        "id": "YBVeRaQ2TU_Z"
      },
      "execution_count": null,
      "outputs": []
    },
    {
      "cell_type": "markdown",
      "source": [
        "## c) Knowledge discovery:"
      ],
      "metadata": {
        "id": "oa1Viy8dr2RE"
      }
    },
    {
      "cell_type": "markdown",
      "source": [
        "## i) and ii) is only read task"
      ],
      "metadata": {
        "id": "oPajkgASsC9J"
      }
    },
    {
      "cell_type": "markdown",
      "source": [
        "## iii) Implement the FP-growth algorithm by reading the manual and try to find yourself an appropriate minSup value and iv) Store the patterns in a file, say frequentPatterns.txt"
      ],
      "metadata": {
        "id": "jh-VhuRsr72D"
      }
    },
    {
      "cell_type": "code",
      "source": [
        "from PAMI.frequentPattern.basic import FPGrowth as ab\n",
        "obj = ab.FPGrowth('PM25HeavyPollutionRecordingSensors.csv', 500) #If the execution is taking too much time, kill the process and use a higher minimum support value.\n",
        "obj.mine()\n",
        "obj.printResults()\n",
        "obj.save('frequentPatterns.txt') #It is a good practise to store the parameters used for an experiment as a f"
      ],
      "metadata": {
        "colab": {
          "base_uri": "https://localhost:8080/"
        },
        "id": "O9MyIlXbsUSf",
        "outputId": "65bafc6c-c977-44f0-bd97-bf2680c4036a"
      },
      "execution_count": null,
      "outputs": [
        {
          "output_type": "stream",
          "name": "stdout",
          "text": [
            "Frequent patterns were generated successfully using frequentPatternGrowth algorithm\n",
            "Total number of Frequent Patterns: 1197\n",
            "Total Memory in USS: 3149766656\n",
            "Total Memory in RSS 3172077568\n",
            "Total ExecutionTime in ms: 11.46459436416626\n"
          ]
        }
      ]
    },
    {
      "cell_type": "markdown",
      "source": [
        "## d) Visualization:"
      ],
      "metadata": {
        "id": "gbpQ-k6Vse0l"
      }
    },
    {
      "cell_type": "markdown",
      "source": [
        "## i) Write a Python code that read the frequentPatterns.txt file, identifies the longest pattern, and shows it on a plotly express open street map.\n"
      ],
      "metadata": {
        "id": "BRQMjl_ush-l"
      }
    },
    {
      "cell_type": "code",
      "source": [
        "from PAMI.extras.graph import visualizePatterns as fig\n",
        "\n",
        "obj = fig.visualizePatterns('frequentPatterns.txt',20)\n",
        "obj.visualize(width=1000,height=900)"
      ],
      "metadata": {
        "colab": {
          "base_uri": "https://localhost:8080/",
          "height": 1000
        },
        "id": "FX4vz5zciA8l",
        "outputId": "1d24fb66-ede9-452c-f0ba-6c43b35d0ba4"
      },
      "execution_count": null,
      "outputs": [
        {
          "output_type": "stream",
          "name": "stdout",
          "text": [
            "Number \t Pattern\n",
            "2\tPoint(130.6118229 32.5174703)\tPoint(130.8163704 32.7914033)\tPoint(130.6999328 33.0093764)\n",
            "3\tPoint(130.6118229 32.5174703)\tPoint(130.8163704 32.7914033)\tPoint(130.6384926 32.5010333)\n",
            "4\tPoint(130.6118229 32.5174703)\tPoint(130.6999328 33.0093764)\tPoint(130.6384926 32.5010333)\n",
            "5\tPoint(133.8362679 34.5899827)\tPoint(133.7597423 34.5165856)\tPoint(133.8171478 34.6075268)\n",
            "6\tPoint(139.6623882 36.0656055)\tPoint(136.5916468 34.9816252)\tPoint(139.6681689 36.0701176)\n",
            "7\tPoint(139.6623882 36.0656055)\tPoint(130.6999328 33.0093764)\tPoint(139.6681689 36.0701176)\n",
            "8\tPoint(139.6623882 36.0656055)\tPoint(135.4580715 34.5435805)\tPoint(139.6681689 36.0701176)\n",
            "9\tPoint(139.6623882 36.0656055)\tPoint(130.6384926 32.5010333)\tPoint(139.6681689 36.0701176)\n",
            "10\tPoint(139.6623882 36.0656055)\tPoint(140.0900293 35.5199404)\tPoint(139.9717795 35.8439578)\n",
            "11\tPoint(139.6623882 36.0656055)\tPoint(140.0900293 35.5199404)\tPoint(139.6681689 36.0701176)\n",
            "12\tPoint(139.6623882 36.0656055)\tPoint(140.5781487 39.3100292)\tPoint(139.6681689 36.0701176)\n",
            "13\tPoint(139.6623882 36.0656055)\tPoint(139.9717795 35.8439578)\tPoint(139.6681689 36.0701176)\n",
            "14\tPoint(139.6681689 36.0701176)\tPoint(130.6999328 33.0093764)\tPoint(130.6384926 32.5010333)\n",
            "15\tPoint(130.8163704 32.7914033)\tPoint(130.6384926 32.5010333)\tPoint(130.6999328 33.0093764)\n",
            "16\tPoint(130.6999328 33.0093764)\tPoint(140.5781487 39.3100292)\tPoint(130.6384926 32.5010333)\n",
            "17\tPoint(130.7998865 33.868205)\tPoint(130.6939898 33.89368080000001)\tPoint(130.8073796 33.9015062)\n",
            "18\tPoint(139.0432674 36.64710669999999)\tPoint(139.6623882 36.0656055)\tPoint(139.6681689 36.0701176)\n",
            "19\tPoint(130.6939898 33.89368080000001)\tPoint(130.8293822 33.8952617)\tPoint(130.8073796 33.9015062)\n",
            "20\tPoint(130.7998865 33.868205)\tPoint(130.8293822 33.8952617)\tPoint(130.850335 33.8863949)\tPoint(130.8073796 33.9015062)\n",
            "21\tPoint(133.7758944 34.6007931)\tPoint(133.8362679 34.5899827)\tPoint(133.7570366 34.5800143)\tPoint(133.8171478 34.6075268)\n"
          ]
        },
        {
          "output_type": "display_data",
          "data": {
            "text/html": [
              "<html>\n",
              "<head><meta charset=\"utf-8\" /></head>\n",
              "<body>\n",
              "    <div>            <script src=\"https://cdnjs.cloudflare.com/ajax/libs/mathjax/2.7.5/MathJax.js?config=TeX-AMS-MML_SVG\"></script><script type=\"text/javascript\">if (window.MathJax && window.MathJax.Hub && window.MathJax.Hub.Config) {window.MathJax.Hub.Config({SVG: {font: \"STIX-Web\"}});}</script>                <script type=\"text/javascript\">window.PlotlyConfig = {MathJaxConfig: 'local'};</script>\n",
              "        <script charset=\"utf-8\" src=\"https://cdn.plot.ly/plotly-2.24.1.min.js\"></script>                <div id=\"1a7d1635-f0f1-430c-873c-c9d44c926a5f\" class=\"plotly-graph-div\" style=\"height:900px; width:1000px;\"></div>            <script type=\"text/javascript\">                                    window.PLOTLYENV=window.PLOTLYENV || {};                                    if (document.getElementById(\"1a7d1635-f0f1-430c-873c-c9d44c926a5f\")) {                    Plotly.newPlot(                        \"1a7d1635-f0f1-430c-873c-c9d44c926a5f\",                        [{\"hovertemplate\":\"\\u003cb\\u003e%{hovertext}\\u003c\\u002fb\\u003e\\u003cbr\\u003e\\u003cbr\\u003ecol=#0014\\u003cbr\\u003elon=%{lat}\\u003cbr\\u003elat=%{lon}\\u003cextra\\u003e\\u003c\\u002fextra\\u003e\",\"hovertext\":[\"Frequency: 502\",\"Frequency: 502\",\"Frequency: 502\"],\"lat\":[32.5174703,32.7914033,33.0093764],\"legendgroup\":\"#0014\",\"lon\":[130.6118229,130.8163704,130.6999328],\"marker\":{\"color\":\"#636efa\",\"size\":20},\"mode\":\"markers\",\"name\":\"#0014\",\"showlegend\":true,\"subplot\":\"mapbox\",\"type\":\"scattermapbox\"},{\"hovertemplate\":\"\\u003cb\\u003e%{hovertext}\\u003c\\u002fb\\u003e\\u003cbr\\u003e\\u003cbr\\u003ecol=#14014\\u003cbr\\u003elon=%{lat}\\u003cbr\\u003elat=%{lon}\\u003cextra\\u003e\\u003c\\u002fextra\\u003e\",\"hovertext\":[\"Frequency: 624\",\"Frequency: 624\",\"Frequency: 624\"],\"lat\":[32.5174703,32.7914033,32.5010333],\"legendgroup\":\"#14014\",\"lon\":[130.6118229,130.8163704,130.6384926],\"marker\":{\"color\":\"#EF553B\",\"size\":20},\"mode\":\"markers\",\"name\":\"#14014\",\"showlegend\":true,\"subplot\":\"mapbox\",\"type\":\"scattermapbox\"},{\"hovertemplate\":\"\\u003cb\\u003e%{hovertext}\\u003c\\u002fb\\u003e\\u003cbr\\u003e\\u003cbr\\u003ecol=#141414\\u003cbr\\u003elon=%{lat}\\u003cbr\\u003elat=%{lon}\\u003cextra\\u003e\\u003c\\u002fextra\\u003e\",\"hovertext\":[\"Frequency: 751\",\"Frequency: 751\",\"Frequency: 751\"],\"lat\":[32.5174703,33.0093764,32.5010333],\"legendgroup\":\"#141414\",\"lon\":[130.6118229,130.6999328,130.6384926],\"marker\":{\"color\":\"#00cc96\",\"size\":20},\"mode\":\"markers\",\"name\":\"#141414\",\"showlegend\":true,\"subplot\":\"mapbox\",\"type\":\"scattermapbox\"},{\"hovertemplate\":\"\\u003cb\\u003e%{hovertext}\\u003c\\u002fb\\u003e\\u003cbr\\u003e\\u003cbr\\u003ecol=#141428\\u003cbr\\u003elon=%{lat}\\u003cbr\\u003elat=%{lon}\\u003cextra\\u003e\\u003c\\u002fextra\\u003e\",\"hovertext\":[\"Frequency: 614\",\"Frequency: 614\",\"Frequency: 614\"],\"lat\":[34.5899827,34.5165856,34.6075268],\"legendgroup\":\"#141428\",\"lon\":[133.8362679,133.7597423,133.8171478],\"marker\":{\"color\":\"#ab63fa\",\"size\":20},\"mode\":\"markers\",\"name\":\"#141428\",\"showlegend\":true,\"subplot\":\"mapbox\",\"type\":\"scattermapbox\"},{\"hovertemplate\":\"\\u003cb\\u003e%{hovertext}\\u003c\\u002fb\\u003e\\u003cbr\\u003e\\u003cbr\\u003ecol=#281428\\u003cbr\\u003elon=%{lat}\\u003cbr\\u003elat=%{lon}\\u003cextra\\u003e\\u003c\\u002fextra\\u003e\",\"hovertext\":[\"Frequency: 506\",\"Frequency: 506\",\"Frequency: 506\"],\"lat\":[36.0656055,34.9816252,36.0701176],\"legendgroup\":\"#281428\",\"lon\":[139.6623882,136.5916468,139.6681689],\"marker\":{\"color\":\"#FFA15A\",\"size\":20},\"mode\":\"markers\",\"name\":\"#281428\",\"showlegend\":true,\"subplot\":\"mapbox\",\"type\":\"scattermapbox\"},{\"hovertemplate\":\"\\u003cb\\u003e%{hovertext}\\u003c\\u002fb\\u003e\\u003cbr\\u003e\\u003cbr\\u003ecol=#282828\\u003cbr\\u003elon=%{lat}\\u003cbr\\u003elat=%{lon}\\u003cextra\\u003e\\u003c\\u002fextra\\u003e\",\"hovertext\":[\"Frequency: 594\",\"Frequency: 594\",\"Frequency: 594\"],\"lat\":[36.0656055,33.0093764,36.0701176],\"legendgroup\":\"#282828\",\"lon\":[139.6623882,130.6999328,139.6681689],\"marker\":{\"color\":\"#19d3f3\",\"size\":20},\"mode\":\"markers\",\"name\":\"#282828\",\"showlegend\":true,\"subplot\":\"mapbox\",\"type\":\"scattermapbox\"},{\"hovertemplate\":\"\\u003cb\\u003e%{hovertext}\\u003c\\u002fb\\u003e\\u003cbr\\u003e\\u003cbr\\u003ecol=#28283c\\u003cbr\\u003elon=%{lat}\\u003cbr\\u003elat=%{lon}\\u003cextra\\u003e\\u003c\\u002fextra\\u003e\",\"hovertext\":[\"Frequency: 668\",\"Frequency: 668\",\"Frequency: 668\"],\"lat\":[36.0656055,34.5435805,36.0701176],\"legendgroup\":\"#28283c\",\"lon\":[139.6623882,135.4580715,139.6681689],\"marker\":{\"color\":\"#FF6692\",\"size\":20},\"mode\":\"markers\",\"name\":\"#28283c\",\"showlegend\":true,\"subplot\":\"mapbox\",\"type\":\"scattermapbox\"},{\"hovertemplate\":\"\\u003cb\\u003e%{hovertext}\\u003c\\u002fb\\u003e\\u003cbr\\u003e\\u003cbr\\u003ecol=#3c283c\\u003cbr\\u003elon=%{lat}\\u003cbr\\u003elat=%{lon}\\u003cextra\\u003e\\u003c\\u002fextra\\u003e\",\"hovertext\":[\"Frequency: 669\",\"Frequency: 669\",\"Frequency: 669\"],\"lat\":[36.0656055,32.5010333,36.0701176],\"legendgroup\":\"#3c283c\",\"lon\":[139.6623882,130.6384926,139.6681689],\"marker\":{\"color\":\"#B6E880\",\"size\":20},\"mode\":\"markers\",\"name\":\"#3c283c\",\"showlegend\":true,\"subplot\":\"mapbox\",\"type\":\"scattermapbox\"},{\"hovertemplate\":\"\\u003cb\\u003e%{hovertext}\\u003c\\u002fb\\u003e\\u003cbr\\u003e\\u003cbr\\u003ecol=#3c3c3c\\u003cbr\\u003elon=%{lat}\\u003cbr\\u003elat=%{lon}\\u003cextra\\u003e\\u003c\\u002fextra\\u003e\",\"hovertext\":[\"Frequency: 504\",\"Frequency: 504\",\"Frequency: 504\"],\"lat\":[36.0656055,35.5199404,35.8439578],\"legendgroup\":\"#3c3c3c\",\"lon\":[139.6623882,140.0900293,139.9717795],\"marker\":{\"color\":\"#FF97FF\",\"size\":20},\"mode\":\"markers\",\"name\":\"#3c3c3c\",\"showlegend\":true,\"subplot\":\"mapbox\",\"type\":\"scattermapbox\"},{\"hovertemplate\":\"\\u003cb\\u003e%{hovertext}\\u003c\\u002fb\\u003e\\u003cbr\\u003e\\u003cbr\\u003ecol=#3c3c50\\u003cbr\\u003elon=%{lat}\\u003cbr\\u003elat=%{lon}\\u003cextra\\u003e\\u003c\\u002fextra\\u003e\",\"hovertext\":[\"Frequency: 688\",\"Frequency: 688\",\"Frequency: 688\"],\"lat\":[36.0656055,35.5199404,36.0701176],\"legendgroup\":\"#3c3c50\",\"lon\":[139.6623882,140.0900293,139.6681689],\"marker\":{\"color\":\"#FECB52\",\"size\":20},\"mode\":\"markers\",\"name\":\"#3c3c50\",\"showlegend\":true,\"subplot\":\"mapbox\",\"type\":\"scattermapbox\"},{\"hovertemplate\":\"\\u003cb\\u003e%{hovertext}\\u003c\\u002fb\\u003e\\u003cbr\\u003e\\u003cbr\\u003ecol=#503c50\\u003cbr\\u003elon=%{lat}\\u003cbr\\u003elat=%{lon}\\u003cextra\\u003e\\u003c\\u002fextra\\u003e\",\"hovertext\":[\"Frequency: 702\",\"Frequency: 702\",\"Frequency: 702\"],\"lat\":[36.0656055,39.3100292,36.0701176],\"legendgroup\":\"#503c50\",\"lon\":[139.6623882,140.5781487,139.6681689],\"marker\":{\"color\":\"#636efa\",\"size\":20},\"mode\":\"markers\",\"name\":\"#503c50\",\"showlegend\":true,\"subplot\":\"mapbox\",\"type\":\"scattermapbox\"},{\"hovertemplate\":\"\\u003cb\\u003e%{hovertext}\\u003c\\u002fb\\u003e\\u003cbr\\u003e\\u003cbr\\u003ecol=#505050\\u003cbr\\u003elon=%{lat}\\u003cbr\\u003elat=%{lon}\\u003cextra\\u003e\\u003c\\u002fextra\\u003e\",\"hovertext\":[\"Frequency: 659\",\"Frequency: 659\",\"Frequency: 659\"],\"lat\":[36.0656055,35.8439578,36.0701176],\"legendgroup\":\"#505050\",\"lon\":[139.6623882,139.9717795,139.6681689],\"marker\":{\"color\":\"#EF553B\",\"size\":20},\"mode\":\"markers\",\"name\":\"#505050\",\"showlegend\":true,\"subplot\":\"mapbox\",\"type\":\"scattermapbox\"},{\"hovertemplate\":\"\\u003cb\\u003e%{hovertext}\\u003c\\u002fb\\u003e\\u003cbr\\u003e\\u003cbr\\u003ecol=#505064\\u003cbr\\u003elon=%{lat}\\u003cbr\\u003elat=%{lon}\\u003cextra\\u003e\\u003c\\u002fextra\\u003e\",\"hovertext\":[\"Frequency: 531\",\"Frequency: 531\",\"Frequency: 531\"],\"lat\":[36.0701176,33.0093764,32.5010333],\"legendgroup\":\"#505064\",\"lon\":[139.6681689,130.6999328,130.6384926],\"marker\":{\"color\":\"#00cc96\",\"size\":20},\"mode\":\"markers\",\"name\":\"#505064\",\"showlegend\":true,\"subplot\":\"mapbox\",\"type\":\"scattermapbox\"},{\"hovertemplate\":\"\\u003cb\\u003e%{hovertext}\\u003c\\u002fb\\u003e\\u003cbr\\u003e\\u003cbr\\u003ecol=#645064\\u003cbr\\u003elon=%{lat}\\u003cbr\\u003elat=%{lon}\\u003cextra\\u003e\\u003c\\u002fextra\\u003e\",\"hovertext\":[\"Frequency: 521\",\"Frequency: 521\",\"Frequency: 521\"],\"lat\":[32.7914033,32.5010333,33.0093764],\"legendgroup\":\"#645064\",\"lon\":[130.8163704,130.6384926,130.6999328],\"marker\":{\"color\":\"#ab63fa\",\"size\":20},\"mode\":\"markers\",\"name\":\"#645064\",\"showlegend\":true,\"subplot\":\"mapbox\",\"type\":\"scattermapbox\"},{\"hovertemplate\":\"\\u003cb\\u003e%{hovertext}\\u003c\\u002fb\\u003e\\u003cbr\\u003e\\u003cbr\\u003ecol=#646464\\u003cbr\\u003elon=%{lat}\\u003cbr\\u003elat=%{lon}\\u003cextra\\u003e\\u003c\\u002fextra\\u003e\",\"hovertext\":[\"Frequency: 521\",\"Frequency: 521\",\"Frequency: 521\"],\"lat\":[33.0093764,39.3100292,32.5010333],\"legendgroup\":\"#646464\",\"lon\":[130.6999328,140.5781487,130.6384926],\"marker\":{\"color\":\"#FFA15A\",\"size\":20},\"mode\":\"markers\",\"name\":\"#646464\",\"showlegend\":true,\"subplot\":\"mapbox\",\"type\":\"scattermapbox\"},{\"hovertemplate\":\"\\u003cb\\u003e%{hovertext}\\u003c\\u002fb\\u003e\\u003cbr\\u003e\\u003cbr\\u003ecol=#646478\\u003cbr\\u003elon=%{lat}\\u003cbr\\u003elat=%{lon}\\u003cextra\\u003e\\u003c\\u002fextra\\u003e\",\"hovertext\":[\"Frequency: 513\",\"Frequency: 513\",\"Frequency: 513\"],\"lat\":[33.868205,33.89368080000001,33.9015062],\"legendgroup\":\"#646478\",\"lon\":[130.7998865,130.6939898,130.8073796],\"marker\":{\"color\":\"#19d3f3\",\"size\":20},\"mode\":\"markers\",\"name\":\"#646478\",\"showlegend\":true,\"subplot\":\"mapbox\",\"type\":\"scattermapbox\"},{\"hovertemplate\":\"\\u003cb\\u003e%{hovertext}\\u003c\\u002fb\\u003e\\u003cbr\\u003e\\u003cbr\\u003ecol=#786478\\u003cbr\\u003elon=%{lat}\\u003cbr\\u003elat=%{lon}\\u003cextra\\u003e\\u003c\\u002fextra\\u003e\",\"hovertext\":[\"Frequency: 584\",\"Frequency: 584\",\"Frequency: 584\"],\"lat\":[36.64710669999999,36.0656055,36.0701176],\"legendgroup\":\"#786478\",\"lon\":[139.0432674,139.6623882,139.6681689],\"marker\":{\"color\":\"#FF6692\",\"size\":20},\"mode\":\"markers\",\"name\":\"#786478\",\"showlegend\":true,\"subplot\":\"mapbox\",\"type\":\"scattermapbox\"},{\"hovertemplate\":\"\\u003cb\\u003e%{hovertext}\\u003c\\u002fb\\u003e\\u003cbr\\u003e\\u003cbr\\u003ecol=#787878\\u003cbr\\u003elon=%{lat}\\u003cbr\\u003elat=%{lon}\\u003cextra\\u003e\\u003c\\u002fextra\\u003e\",\"hovertext\":[\"Frequency: 545\",\"Frequency: 545\",\"Frequency: 545\"],\"lat\":[33.89368080000001,33.8952617,33.9015062],\"legendgroup\":\"#787878\",\"lon\":[130.6939898,130.8293822,130.8073796],\"marker\":{\"color\":\"#B6E880\",\"size\":20},\"mode\":\"markers\",\"name\":\"#787878\",\"showlegend\":true,\"subplot\":\"mapbox\",\"type\":\"scattermapbox\"},{\"hovertemplate\":\"\\u003cb\\u003e%{hovertext}\\u003c\\u002fb\\u003e\\u003cbr\\u003e\\u003cbr\\u003ecol=#78788c\\u003cbr\\u003elon=%{lat}\\u003cbr\\u003elat=%{lon}\\u003cextra\\u003e\\u003c\\u002fextra\\u003e\",\"hovertext\":[\"Frequency: 508\",\"Frequency: 508\",\"Frequency: 508\",\"Frequency: 508\"],\"lat\":[33.868205,33.8952617,33.8863949,33.9015062],\"legendgroup\":\"#78788c\",\"lon\":[130.7998865,130.8293822,130.850335,130.8073796],\"marker\":{\"color\":\"#FF97FF\",\"size\":20},\"mode\":\"markers\",\"name\":\"#78788c\",\"showlegend\":true,\"subplot\":\"mapbox\",\"type\":\"scattermapbox\"},{\"hovertemplate\":\"\\u003cb\\u003e%{hovertext}\\u003c\\u002fb\\u003e\\u003cbr\\u003e\\u003cbr\\u003ecol=#8c788c\\u003cbr\\u003elon=%{lat}\\u003cbr\\u003elat=%{lon}\\u003cextra\\u003e\\u003c\\u002fextra\\u003e\",\"hovertext\":[\"Frequency: 517\",\"Frequency: 517\",\"Frequency: 517\",\"Frequency: 517\"],\"lat\":[34.6007931,34.5899827,34.5800143,34.6075268],\"legendgroup\":\"#8c788c\",\"lon\":[133.7758944,133.8362679,133.7570366,133.8171478],\"marker\":{\"color\":\"#FECB52\",\"size\":20},\"mode\":\"markers\",\"name\":\"#8c788c\",\"showlegend\":true,\"subplot\":\"mapbox\",\"type\":\"scattermapbox\"}],                        {\"template\":{\"data\":{\"histogram2dcontour\":[{\"type\":\"histogram2dcontour\",\"colorbar\":{\"outlinewidth\":0,\"ticks\":\"\"},\"colorscale\":[[0.0,\"#0d0887\"],[0.1111111111111111,\"#46039f\"],[0.2222222222222222,\"#7201a8\"],[0.3333333333333333,\"#9c179e\"],[0.4444444444444444,\"#bd3786\"],[0.5555555555555556,\"#d8576b\"],[0.6666666666666666,\"#ed7953\"],[0.7777777777777778,\"#fb9f3a\"],[0.8888888888888888,\"#fdca26\"],[1.0,\"#f0f921\"]]}],\"choropleth\":[{\"type\":\"choropleth\",\"colorbar\":{\"outlinewidth\":0,\"ticks\":\"\"}}],\"histogram2d\":[{\"type\":\"histogram2d\",\"colorbar\":{\"outlinewidth\":0,\"ticks\":\"\"},\"colorscale\":[[0.0,\"#0d0887\"],[0.1111111111111111,\"#46039f\"],[0.2222222222222222,\"#7201a8\"],[0.3333333333333333,\"#9c179e\"],[0.4444444444444444,\"#bd3786\"],[0.5555555555555556,\"#d8576b\"],[0.6666666666666666,\"#ed7953\"],[0.7777777777777778,\"#fb9f3a\"],[0.8888888888888888,\"#fdca26\"],[1.0,\"#f0f921\"]]}],\"heatmap\":[{\"type\":\"heatmap\",\"colorbar\":{\"outlinewidth\":0,\"ticks\":\"\"},\"colorscale\":[[0.0,\"#0d0887\"],[0.1111111111111111,\"#46039f\"],[0.2222222222222222,\"#7201a8\"],[0.3333333333333333,\"#9c179e\"],[0.4444444444444444,\"#bd3786\"],[0.5555555555555556,\"#d8576b\"],[0.6666666666666666,\"#ed7953\"],[0.7777777777777778,\"#fb9f3a\"],[0.8888888888888888,\"#fdca26\"],[1.0,\"#f0f921\"]]}],\"heatmapgl\":[{\"type\":\"heatmapgl\",\"colorbar\":{\"outlinewidth\":0,\"ticks\":\"\"},\"colorscale\":[[0.0,\"#0d0887\"],[0.1111111111111111,\"#46039f\"],[0.2222222222222222,\"#7201a8\"],[0.3333333333333333,\"#9c179e\"],[0.4444444444444444,\"#bd3786\"],[0.5555555555555556,\"#d8576b\"],[0.6666666666666666,\"#ed7953\"],[0.7777777777777778,\"#fb9f3a\"],[0.8888888888888888,\"#fdca26\"],[1.0,\"#f0f921\"]]}],\"contourcarpet\":[{\"type\":\"contourcarpet\",\"colorbar\":{\"outlinewidth\":0,\"ticks\":\"\"}}],\"contour\":[{\"type\":\"contour\",\"colorbar\":{\"outlinewidth\":0,\"ticks\":\"\"},\"colorscale\":[[0.0,\"#0d0887\"],[0.1111111111111111,\"#46039f\"],[0.2222222222222222,\"#7201a8\"],[0.3333333333333333,\"#9c179e\"],[0.4444444444444444,\"#bd3786\"],[0.5555555555555556,\"#d8576b\"],[0.6666666666666666,\"#ed7953\"],[0.7777777777777778,\"#fb9f3a\"],[0.8888888888888888,\"#fdca26\"],[1.0,\"#f0f921\"]]}],\"surface\":[{\"type\":\"surface\",\"colorbar\":{\"outlinewidth\":0,\"ticks\":\"\"},\"colorscale\":[[0.0,\"#0d0887\"],[0.1111111111111111,\"#46039f\"],[0.2222222222222222,\"#7201a8\"],[0.3333333333333333,\"#9c179e\"],[0.4444444444444444,\"#bd3786\"],[0.5555555555555556,\"#d8576b\"],[0.6666666666666666,\"#ed7953\"],[0.7777777777777778,\"#fb9f3a\"],[0.8888888888888888,\"#fdca26\"],[1.0,\"#f0f921\"]]}],\"mesh3d\":[{\"type\":\"mesh3d\",\"colorbar\":{\"outlinewidth\":0,\"ticks\":\"\"}}],\"scatter\":[{\"fillpattern\":{\"fillmode\":\"overlay\",\"size\":10,\"solidity\":0.2},\"type\":\"scatter\"}],\"parcoords\":[{\"type\":\"parcoords\",\"line\":{\"colorbar\":{\"outlinewidth\":0,\"ticks\":\"\"}}}],\"scatterpolargl\":[{\"type\":\"scatterpolargl\",\"marker\":{\"colorbar\":{\"outlinewidth\":0,\"ticks\":\"\"}}}],\"bar\":[{\"error_x\":{\"color\":\"#2a3f5f\"},\"error_y\":{\"color\":\"#2a3f5f\"},\"marker\":{\"line\":{\"color\":\"#E5ECF6\",\"width\":0.5},\"pattern\":{\"fillmode\":\"overlay\",\"size\":10,\"solidity\":0.2}},\"type\":\"bar\"}],\"scattergeo\":[{\"type\":\"scattergeo\",\"marker\":{\"colorbar\":{\"outlinewidth\":0,\"ticks\":\"\"}}}],\"scatterpolar\":[{\"type\":\"scatterpolar\",\"marker\":{\"colorbar\":{\"outlinewidth\":0,\"ticks\":\"\"}}}],\"histogram\":[{\"marker\":{\"pattern\":{\"fillmode\":\"overlay\",\"size\":10,\"solidity\":0.2}},\"type\":\"histogram\"}],\"scattergl\":[{\"type\":\"scattergl\",\"marker\":{\"colorbar\":{\"outlinewidth\":0,\"ticks\":\"\"}}}],\"scatter3d\":[{\"type\":\"scatter3d\",\"line\":{\"colorbar\":{\"outlinewidth\":0,\"ticks\":\"\"}},\"marker\":{\"colorbar\":{\"outlinewidth\":0,\"ticks\":\"\"}}}],\"scattermapbox\":[{\"type\":\"scattermapbox\",\"marker\":{\"colorbar\":{\"outlinewidth\":0,\"ticks\":\"\"}}}],\"scatterternary\":[{\"type\":\"scatterternary\",\"marker\":{\"colorbar\":{\"outlinewidth\":0,\"ticks\":\"\"}}}],\"scattercarpet\":[{\"type\":\"scattercarpet\",\"marker\":{\"colorbar\":{\"outlinewidth\":0,\"ticks\":\"\"}}}],\"carpet\":[{\"aaxis\":{\"endlinecolor\":\"#2a3f5f\",\"gridcolor\":\"white\",\"linecolor\":\"white\",\"minorgridcolor\":\"white\",\"startlinecolor\":\"#2a3f5f\"},\"baxis\":{\"endlinecolor\":\"#2a3f5f\",\"gridcolor\":\"white\",\"linecolor\":\"white\",\"minorgridcolor\":\"white\",\"startlinecolor\":\"#2a3f5f\"},\"type\":\"carpet\"}],\"table\":[{\"cells\":{\"fill\":{\"color\":\"#EBF0F8\"},\"line\":{\"color\":\"white\"}},\"header\":{\"fill\":{\"color\":\"#C8D4E3\"},\"line\":{\"color\":\"white\"}},\"type\":\"table\"}],\"barpolar\":[{\"marker\":{\"line\":{\"color\":\"#E5ECF6\",\"width\":0.5},\"pattern\":{\"fillmode\":\"overlay\",\"size\":10,\"solidity\":0.2}},\"type\":\"barpolar\"}],\"pie\":[{\"automargin\":true,\"type\":\"pie\"}]},\"layout\":{\"autotypenumbers\":\"strict\",\"colorway\":[\"#636efa\",\"#EF553B\",\"#00cc96\",\"#ab63fa\",\"#FFA15A\",\"#19d3f3\",\"#FF6692\",\"#B6E880\",\"#FF97FF\",\"#FECB52\"],\"font\":{\"color\":\"#2a3f5f\"},\"hovermode\":\"closest\",\"hoverlabel\":{\"align\":\"left\"},\"paper_bgcolor\":\"white\",\"plot_bgcolor\":\"#E5ECF6\",\"polar\":{\"bgcolor\":\"#E5ECF6\",\"angularaxis\":{\"gridcolor\":\"white\",\"linecolor\":\"white\",\"ticks\":\"\"},\"radialaxis\":{\"gridcolor\":\"white\",\"linecolor\":\"white\",\"ticks\":\"\"}},\"ternary\":{\"bgcolor\":\"#E5ECF6\",\"aaxis\":{\"gridcolor\":\"white\",\"linecolor\":\"white\",\"ticks\":\"\"},\"baxis\":{\"gridcolor\":\"white\",\"linecolor\":\"white\",\"ticks\":\"\"},\"caxis\":{\"gridcolor\":\"white\",\"linecolor\":\"white\",\"ticks\":\"\"}},\"coloraxis\":{\"colorbar\":{\"outlinewidth\":0,\"ticks\":\"\"}},\"colorscale\":{\"sequential\":[[0.0,\"#0d0887\"],[0.1111111111111111,\"#46039f\"],[0.2222222222222222,\"#7201a8\"],[0.3333333333333333,\"#9c179e\"],[0.4444444444444444,\"#bd3786\"],[0.5555555555555556,\"#d8576b\"],[0.6666666666666666,\"#ed7953\"],[0.7777777777777778,\"#fb9f3a\"],[0.8888888888888888,\"#fdca26\"],[1.0,\"#f0f921\"]],\"sequentialminus\":[[0.0,\"#0d0887\"],[0.1111111111111111,\"#46039f\"],[0.2222222222222222,\"#7201a8\"],[0.3333333333333333,\"#9c179e\"],[0.4444444444444444,\"#bd3786\"],[0.5555555555555556,\"#d8576b\"],[0.6666666666666666,\"#ed7953\"],[0.7777777777777778,\"#fb9f3a\"],[0.8888888888888888,\"#fdca26\"],[1.0,\"#f0f921\"]],\"diverging\":[[0,\"#8e0152\"],[0.1,\"#c51b7d\"],[0.2,\"#de77ae\"],[0.3,\"#f1b6da\"],[0.4,\"#fde0ef\"],[0.5,\"#f7f7f7\"],[0.6,\"#e6f5d0\"],[0.7,\"#b8e186\"],[0.8,\"#7fbc41\"],[0.9,\"#4d9221\"],[1,\"#276419\"]]},\"xaxis\":{\"gridcolor\":\"white\",\"linecolor\":\"white\",\"ticks\":\"\",\"title\":{\"standoff\":15},\"zerolinecolor\":\"white\",\"automargin\":true,\"zerolinewidth\":2},\"yaxis\":{\"gridcolor\":\"white\",\"linecolor\":\"white\",\"ticks\":\"\",\"title\":{\"standoff\":15},\"zerolinecolor\":\"white\",\"automargin\":true,\"zerolinewidth\":2},\"scene\":{\"xaxis\":{\"backgroundcolor\":\"#E5ECF6\",\"gridcolor\":\"white\",\"linecolor\":\"white\",\"showbackground\":true,\"ticks\":\"\",\"zerolinecolor\":\"white\",\"gridwidth\":2},\"yaxis\":{\"backgroundcolor\":\"#E5ECF6\",\"gridcolor\":\"white\",\"linecolor\":\"white\",\"showbackground\":true,\"ticks\":\"\",\"zerolinecolor\":\"white\",\"gridwidth\":2},\"zaxis\":{\"backgroundcolor\":\"#E5ECF6\",\"gridcolor\":\"white\",\"linecolor\":\"white\",\"showbackground\":true,\"ticks\":\"\",\"zerolinecolor\":\"white\",\"gridwidth\":2}},\"shapedefaults\":{\"line\":{\"color\":\"#2a3f5f\"}},\"annotationdefaults\":{\"arrowcolor\":\"#2a3f5f\",\"arrowhead\":0,\"arrowwidth\":1},\"geo\":{\"bgcolor\":\"white\",\"landcolor\":\"#E5ECF6\",\"subunitcolor\":\"white\",\"showland\":true,\"showlakes\":true,\"lakecolor\":\"white\"},\"title\":{\"x\":0.05},\"mapbox\":{\"style\":\"light\"}}},\"mapbox\":{\"domain\":{\"x\":[0.0,1.0],\"y\":[0.0,1.0]},\"center\":{\"lat\":34.6246512032258,\"lon\":134.8900248774194},\"zoom\":3,\"style\":\"open-street-map\"},\"legend\":{\"title\":{\"text\":\"col\"},\"tracegroupgap\":0},\"margin\":{\"t\":60},\"height\":900,\"width\":1000},                        {\"responsive\": true}                    ).then(function(){\n",
              "                            \n",
              "var gd = document.getElementById('1a7d1635-f0f1-430c-873c-c9d44c926a5f');\n",
              "var x = new MutationObserver(function (mutations, observer) {{\n",
              "        var display = window.getComputedStyle(gd).display;\n",
              "        if (!display || display === 'none') {{\n",
              "            console.log([gd, 'removed!']);\n",
              "            Plotly.purge(gd);\n",
              "            observer.disconnect();\n",
              "        }}\n",
              "}});\n",
              "\n",
              "// Listen for the removal of the full notebook cells\n",
              "var notebookContainer = gd.closest('#notebook-container');\n",
              "if (notebookContainer) {{\n",
              "    x.observe(notebookContainer, {childList: true});\n",
              "}}\n",
              "\n",
              "// Listen for the clearing of the current output cell\n",
              "var outputEl = gd.closest('.output');\n",
              "if (outputEl) {{\n",
              "    x.observe(outputEl, {childList: true});\n",
              "}}\n",
              "\n",
              "                        })                };                            </script>        </div>\n",
              "</body>\n",
              "</html>"
            ]
          },
          "metadata": {}
        }
      ]
    },
    {
      "cell_type": "markdown",
      "source": [
        "## e) Visit the PAMI repository in the Github: https://github.com/UdayLab/PAMI"
      ],
      "metadata": {
        "id": "XKLobG5Msmpq"
      }
    },
    {
      "cell_type": "markdown",
      "source": [
        "## f) (Optional) On the top right corner, click on \"star\" button to give a star to PAMI repository → done\n"
      ],
      "metadata": {
        "id": "CDxnnXHKsxWF"
      }
    },
    {
      "cell_type": "markdown",
      "source": [
        "## g) Fork the PAMI Github Repository into your Github account and make this Forked repository public → done"
      ],
      "metadata": {
        "id": "H9KegQCTx4EL"
      }
    },
    {
      "cell_type": "markdown",
      "source": [
        "## h) Transfer your notebook into PAMI/notebooks folder"
      ],
      "metadata": {
        "id": "ChkJGt0atFlD"
      }
    },
    {
      "cell_type": "markdown",
      "source": [
        "## Submissions:"
      ],
      "metadata": {
        "id": "i_C4ZSCGzGKp"
      }
    },
    {
      "cell_type": "markdown",
      "source": [
        "## 1) Mention your Github Repository link in your notebook and make it hyperlink (clickable)."
      ],
      "metadata": {
        "id": "yWH_BYv6zHT4"
      }
    },
    {
      "cell_type": "markdown",
      "source": [
        "## https://github.com/asuka1231/PAMI_s1300109"
      ],
      "metadata": {
        "id": "9UpL3DhdzLrf"
      }
    },
    {
      "cell_type": "markdown",
      "source": [
        "## 2) Convert your notebook into PDF and upload it → done"
      ],
      "metadata": {
        "id": "gcBsXvgtzXXL"
      }
    }
  ]
}